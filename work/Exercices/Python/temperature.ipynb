{
 "cells": [
  {
   "cell_type": "code",
   "execution_count": 1,
   "id": "ed81f3d2-4dbc-406b-90dd-9de4329fafb6",
   "metadata": {},
   "outputs": [],
   "source": [
    "import numpy as np"
   ]
  },
  {
   "cell_type": "code",
   "execution_count": 2,
   "id": "b1978c7a-831e-4394-8841-1b1a279a705a",
   "metadata": {},
   "outputs": [],
   "source": [
    "january = np.array([-2,  5, -5,  6, -2,  0,  6,  2,  8,  0,  6, -1,  3,  3,  7,  0, -5,\n",
    "        7,  4,  7,  8, -1,  5, -2,  3, -3, -2,  7,  8,  4,  2])"
   ]
  },
  {
   "cell_type": "markdown",
   "id": "fe074c21-7cd5-49e7-9a72-7b2e5a7618ba",
   "metadata": {},
   "source": [
    "Donnez toutes les températures qui sont supérieures à 0."
   ]
  },
  {
   "cell_type": "code",
   "execution_count": 3,
   "id": "c39bca15-99d8-4cd3-a867-59e0342b9e10",
   "metadata": {},
   "outputs": [
    {
     "data": {
      "text/plain": [
       "array([5, 6, 6, 2, 8, 6, 3, 3, 7, 7, 4, 7, 8, 5, 3, 7, 8, 4, 2])"
      ]
     },
     "execution_count": 3,
     "metadata": {},
     "output_type": "execute_result"
    }
   ],
   "source": [
    "mask_sup_zero = january > 0\n",
    "january[mask_sup_zero]"
   ]
  },
  {
   "cell_type": "markdown",
   "id": "30d0a74f-4947-4b77-9f36-df5707ae7bd6",
   "metadata": {},
   "source": [
    "Comparez les températures supérieures et inférieures à 0."
   ]
  },
  {
   "cell_type": "code",
   "execution_count": 4,
   "id": "41a2132a-929c-4388-9268-c74bab03dd83",
   "metadata": {},
   "outputs": [],
   "source": [
    "comp = (january > 0).sum() > (january < 0).sum()"
   ]
  },
  {
   "cell_type": "code",
   "execution_count": 12,
   "id": "d50d239c-a74a-4a51-966b-16542fc84983",
   "metadata": {},
   "outputs": [],
   "source": [
    "info = \"plus\" if comp else \"moins\""
   ]
  },
  {
   "cell_type": "code",
   "execution_count": 13,
   "id": "ca04dde9-c128-434f-8036-f91dfc703e05",
   "metadata": {},
   "outputs": [
    {
     "name": "stdout",
     "output_type": "stream",
     "text": [
      "Il y a plus de températures positives que de températures négatives\n"
     ]
    }
   ],
   "source": [
    "print(f\"Il y a {info} de températures positives que de températures négatives\")"
   ]
  },
  {
   "cell_type": "markdown",
   "id": "18b5d842-800e-44ac-bcab-3f7d9a50ee51",
   "metadata": {},
   "source": [
    "Donnez le pourcentage des températures positives sur le mois."
   ]
  },
  {
   "cell_type": "code",
   "execution_count": 18,
   "id": "878047df-fff3-4300-86ec-1e913303d3b1",
   "metadata": {},
   "outputs": [],
   "source": [
    "per_t_positive = round( (january > 0).sum() / len(january), 2 ) * 100"
   ]
  },
  {
   "cell_type": "code",
   "execution_count": 22,
   "id": "a4cea938-9231-4d72-9b31-3e57118f60cf",
   "metadata": {},
   "outputs": [
    {
     "name": "stdout",
     "output_type": "stream",
     "text": [
      "Température 61.0 %\n"
     ]
    }
   ],
   "source": [
    "print(f\"Température {per_t_positive} %\")"
   ]
  },
  {
   "cell_type": "markdown",
   "id": "83ed15cb-2e6d-4f29-b1bb-1716b7aafdd0",
   "metadata": {},
   "source": [
    "Créez un tableau days pour les jours du mois et donnez les jours pour lesquels la température était supérieure à 0."
   ]
  },
  {
   "cell_type": "code",
   "execution_count": 25,
   "id": "724c91cb-bf9c-494e-b619-8a907108fb63",
   "metadata": {},
   "outputs": [],
   "source": [
    "days = np.arange( 1, len(january) + 1 )"
   ]
  },
  {
   "cell_type": "code",
   "execution_count": 27,
   "id": "28a9522a-a318-48d1-998f-220497e47688",
   "metadata": {},
   "outputs": [
    {
     "data": {
      "text/plain": [
       "array([ 2,  4,  7,  8,  9, 11, 13, 14, 15, 18, 19, 20, 21, 23, 25, 28, 29,\n",
       "       30, 31])"
      ]
     },
     "execution_count": 27,
     "metadata": {},
     "output_type": "execute_result"
    }
   ],
   "source": [
    "days[ january > 0 ]"
   ]
  },
  {
   "cell_type": "markdown",
   "id": "7ab1af22-acdc-4b88-8aa0-ae54f1744e43",
   "metadata": {},
   "source": [
    "5. Donnez toutes les températures supérieures à 0 à partir du dixième jour du mois."
   ]
  },
  {
   "cell_type": "code",
   "execution_count": 31,
   "id": "402d1018-cce1-4192-aa94-3cdcf7f18f45",
   "metadata": {},
   "outputs": [
    {
     "data": {
      "text/plain": [
       "array([6, 3, 3, 7, 7, 4, 7, 8, 5, 3, 7, 8, 4, 2])"
      ]
     },
     "execution_count": 31,
     "metadata": {},
     "output_type": "execute_result"
    }
   ],
   "source": [
    "january[9:][january[9:] > 0]"
   ]
  },
  {
   "cell_type": "code",
   "execution_count": 45,
   "id": "c5b001b8-8dd0-417c-85e4-2919559ec02a",
   "metadata": {},
   "outputs": [
    {
     "name": "stdout",
     "output_type": "stream",
     "text": [
      "day: 11 temperature: 6\n",
      "day: 13 temperature: 3\n",
      "day: 14 temperature: 3\n",
      "day: 15 temperature: 7\n",
      "day: 18 temperature: 7\n",
      "day: 19 temperature: 4\n",
      "day: 20 temperature: 7\n",
      "day: 21 temperature: 8\n",
      "day: 23 temperature: 5\n",
      "day: 25 temperature: 3\n",
      "day: 28 temperature: 7\n",
      "day: 29 temperature: 8\n",
      "day: 30 temperature: 4\n",
      "day: 31 temperature: 2\n"
     ]
    }
   ],
   "source": [
    "for d, t in zip(days[9:][january[9:] > 0], january[9:][january[9:] > 0]):\n",
    "    print(f\"day: {d} temperature: {t}\")"
   ]
  },
  {
   "cell_type": "code",
   "execution_count": 49,
   "id": "66e0b3f2-c731-4ec5-982d-4fa6c651cdb2",
   "metadata": {},
   "outputs": [],
   "source": [
    "m = np.median(january)"
   ]
  },
  {
   "cell_type": "code",
   "execution_count": 50,
   "id": "ac800c3f-1b3e-454b-9574-a66c602e0a79",
   "metadata": {},
   "outputs": [
    {
     "data": {
      "text/plain": [
       "array([3, 5, 3, 6, 3, 0, 6, 2, 8, 0, 6, 3, 3, 3, 7, 0, 3, 7, 4, 7, 8, 3,\n",
       "       5, 3, 3, 3, 3, 7, 8, 4, 2])"
      ]
     },
     "execution_count": 50,
     "metadata": {},
     "output_type": "execute_result"
    }
   ],
   "source": [
    "january[january < 0] = m\n",
    "\n",
    "january"
   ]
  },
  {
   "cell_type": "code",
   "execution_count": null,
   "id": "067d611c-5abe-4443-8eb4-65135a40a829",
   "metadata": {},
   "outputs": [],
   "source": []
  }
 ],
 "metadata": {
  "kernelspec": {
   "display_name": "Python 3 (ipykernel)",
   "language": "python",
   "name": "python3"
  },
  "language_info": {
   "codemirror_mode": {
    "name": "ipython",
    "version": 3
   },
   "file_extension": ".py",
   "mimetype": "text/x-python",
   "name": "python",
   "nbconvert_exporter": "python",
   "pygments_lexer": "ipython3",
   "version": "3.11.12"
  }
 },
 "nbformat": 4,
 "nbformat_minor": 5
}
