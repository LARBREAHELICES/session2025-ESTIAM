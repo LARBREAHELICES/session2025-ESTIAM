{
 "cells": [
  {
   "cell_type": "code",
   "execution_count": 7,
   "id": "74794423-a459-478b-a098-04184e2a06cc",
   "metadata": {},
   "outputs": [
    {
     "name": "stdout",
     "output_type": "stream",
     "text": [
      "30\n"
     ]
    }
   ],
   "source": [
    "def sum_even(n: int) -> int:\n",
    "    return sum( i for i in range(0, n + 1, 2) )\n",
    "\n",
    "print(sum_even(10))  # 30 (0+2+4+6+8+10)"
   ]
  },
  {
   "cell_type": "code",
   "execution_count": 14,
   "id": "ab6703a1-0f96-4f51-be57-4a79f776e694",
   "metadata": {},
   "outputs": [
    {
     "name": "stdout",
     "output_type": "stream",
     "text": [
      "nohtyp\n"
     ]
    }
   ],
   "source": [
    "def reverse_string(s: str) -> str:\n",
    "    return s[::-1]\n",
    "\n",
    "print(reverse_string(\"python\"))  # nohtyp"
   ]
  },
  {
   "cell_type": "code",
   "execution_count": 15,
   "id": "668e0f87-fca8-4e33-b406-82d93bd19edf",
   "metadata": {},
   "outputs": [],
   "source": [
    "def contains(lst: list, el) -> bool:\n",
    "    return el in lst"
   ]
  },
  {
   "cell_type": "code",
   "execution_count": 16,
   "id": "e733519d-f0b0-4aa3-99bb-97b275a90ad8",
   "metadata": {},
   "outputs": [
    {
     "name": "stdout",
     "output_type": "stream",
     "text": [
      "True\n",
      "False\n"
     ]
    }
   ],
   "source": [
    "print(contains([1, 3, 5], 3))  # True\n",
    "print(contains([1, 3, 5], 2))  # False"
   ]
  },
  {
   "cell_type": "code",
   "execution_count": 12,
   "id": "d9f44036-cf5d-4966-843d-ab2d10b85791",
   "metadata": {},
   "outputs": [
    {
     "data": {
      "text/plain": [
       "True"
      ]
     },
     "execution_count": 12,
     "metadata": {},
     "output_type": "execute_result"
    }
   ],
   "source": [
    "2 in [1, 2, 3]"
   ]
  },
  {
   "cell_type": "code",
   "execution_count": 38,
   "id": "000cedbd-8db1-42a8-aa27-cc20169c1ea4",
   "metadata": {},
   "outputs": [
    {
     "name": "stdout",
     "output_type": "stream",
     "text": [
      "Error\n"
     ]
    }
   ],
   "source": [
    "def contains_list(lst: list, seq) -> bool:\n",
    "    lenList, lenSeq = len(lst) , len(seq)\n",
    "\n",
    "    # gestion des exceptions on arrête ici le script si la condition est vérifiée\n",
    "    assert lenList > lenSeq\n",
    "\n",
    "    for i in range(0, lenList - lenSeq + 1 ):\n",
    "        if lst[i:lenSeq + i] == seq:\n",
    "            \n",
    "            return True\n",
    "    \n",
    "    return False\n",
    "\n",
    "# gestion des exceptions\n",
    "try:\n",
    "    print(contains_list([1, 3, 5, 7], [3,5, 9, 10, 1, 2]))  # True\n",
    "except:\n",
    "    print(\"Error\")\n"
   ]
  },
  {
   "cell_type": "code",
   "execution_count": 20,
   "id": "e7b22beb-8fa5-4db9-a522-ad3f47926970",
   "metadata": {},
   "outputs": [
    {
     "name": "stdout",
     "output_type": "stream",
     "text": [
      "False\n",
      "True\n"
     ]
    }
   ],
   "source": [
    "print( [1,5] == [1, 3] )\n",
    "print( [1,3] == [1, 3] )\n"
   ]
  },
  {
   "cell_type": "code",
   "execution_count": null,
   "id": "8667bd56-1887-4a0a-b93a-914488cf1207",
   "metadata": {},
   "outputs": [],
   "source": []
  }
 ],
 "metadata": {
  "kernelspec": {
   "display_name": "Python 3 (ipykernel)",
   "language": "python",
   "name": "python3"
  },
  "language_info": {
   "codemirror_mode": {
    "name": "ipython",
    "version": 3
   },
   "file_extension": ".py",
   "mimetype": "text/x-python",
   "name": "python",
   "nbconvert_exporter": "python",
   "pygments_lexer": "ipython3",
   "version": "3.11.12"
  }
 },
 "nbformat": 4,
 "nbformat_minor": 5
}
