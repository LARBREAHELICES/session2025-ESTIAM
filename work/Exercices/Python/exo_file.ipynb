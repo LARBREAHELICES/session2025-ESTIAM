{
 "cells": [
  {
   "cell_type": "code",
   "execution_count": 3,
   "id": "5befc77e-dc2c-4892-bd0c-f894b04e0af4",
   "metadata": {},
   "outputs": [
    {
     "name": "stdout",
     "output_type": "stream",
     "text": [
      "4\n"
     ]
    }
   ],
   "source": [
    "c = 0\n",
    "with open(\"data.txt\", \"r\") as file:\n",
    "    for line in file:\n",
    "        #c = line.strip().count(\"o\") + c # utilisez le c+= ... \n",
    "        c += line.strip().count(\"o\")\n",
    "\n",
    "print(c)"
   ]
  },
  {
   "cell_type": "code",
   "execution_count": 5,
   "id": "bdfd7ec2-71b3-42b5-a1a6-dd6119aafd54",
   "metadata": {},
   "outputs": [],
   "source": [
    "import json"
   ]
  },
  {
   "cell_type": "code",
   "execution_count": 12,
   "id": "36818476-f88c-40b5-b048-41e091181d98",
   "metadata": {},
   "outputs": [],
   "source": [
    "with open(\"students.json\", \"r\") as f:\n",
    "    students = json.load(f) # liste de dict "
   ]
  },
  {
   "cell_type": "code",
   "execution_count": 40,
   "id": "564f18cb-e1e5-46a9-980a-e70ab9e0f9d3",
   "metadata": {},
   "outputs": [
    {
     "name": "stdout",
     "output_type": "stream",
     "text": [
      "85.67\n"
     ]
    }
   ],
   "source": [
    "# Calcul de la moyenne \n",
    "average_score = round( sum( student['score'] for student in students ) / len(students), 2 )\n",
    "print(average_score )"
   ]
  },
  {
   "cell_type": "code",
   "execution_count": 42,
   "id": "c864073f-6c2b-41d1-894e-ead20df979bd",
   "metadata": {},
   "outputs": [
    {
     "name": "stdout",
     "output_type": "stream",
     "text": [
      "[87, 92, 76, 95, 81, 89, 78, 90, 84, 93, 75, 88]\n"
     ]
    }
   ],
   "source": [
    "notes = [ student['score'] for student in students ]\n",
    "print(notes)"
   ]
  },
  {
   "cell_type": "code",
   "execution_count": 43,
   "id": "e02c1aea-fe55-46a9-9cfa-8a2ae8e67f57",
   "metadata": {},
   "outputs": [
    {
     "name": "stdout",
     "output_type": "stream",
     "text": [
      "85.0\n",
      "87.67\n",
      "84.0\n",
      "88.33\n",
      "82.67\n",
      "85.67\n",
      "84.0\n",
      "89.0\n",
      "84.0\n",
      "85.33\n"
     ]
    }
   ],
   "source": [
    "# Moyenne lissée \n",
    "for i in range( 0,  len(notes) - 3 + 1):\n",
    "    # print( notes[i:3 + i])\n",
    "    print( round( sum(notes[i:3 + i]) / 3 , 2) )"
   ]
  },
  {
   "cell_type": "code",
   "execution_count": null,
   "id": "19529fff-344d-4ad2-9fea-ce68a0b5e125",
   "metadata": {},
   "outputs": [],
   "source": []
  }
 ],
 "metadata": {
  "kernelspec": {
   "display_name": "Python 3 (ipykernel)",
   "language": "python",
   "name": "python3"
  },
  "language_info": {
   "codemirror_mode": {
    "name": "ipython",
    "version": 3
   },
   "file_extension": ".py",
   "mimetype": "text/x-python",
   "name": "python",
   "nbconvert_exporter": "python",
   "pygments_lexer": "ipython3",
   "version": "3.11.12"
  }
 },
 "nbformat": 4,
 "nbformat_minor": 5
}
