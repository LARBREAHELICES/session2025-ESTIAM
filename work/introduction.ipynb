{
 "cells": [
  {
   "cell_type": "code",
   "execution_count": 1,
   "id": "b142edb9-7cd8-4d17-9071-f62af3559296",
   "metadata": {},
   "outputs": [
    {
     "name": "stdout",
     "output_type": "stream",
     "text": [
      "The Zen of Python, by Tim Peters\n",
      "\n",
      "Beautiful is better than ugly.\n",
      "Explicit is better than implicit.\n",
      "Simple is better than complex.\n",
      "Complex is better than complicated.\n",
      "Flat is better than nested.\n",
      "Sparse is better than dense.\n",
      "Readability counts.\n",
      "Special cases aren't special enough to break the rules.\n",
      "Although practicality beats purity.\n",
      "Errors should never pass silently.\n",
      "Unless explicitly silenced.\n",
      "In the face of ambiguity, refuse the temptation to guess.\n",
      "There should be one-- and preferably only one --obvious way to do it.\n",
      "Although that way may not be obvious at first unless you're Dutch.\n",
      "Now is better than never.\n",
      "Although never is often better than *right* now.\n",
      "If the implementation is hard to explain, it's a bad idea.\n",
      "If the implementation is easy to explain, it may be a good idea.\n",
      "Namespaces are one honking great idea -- let's do more of those!\n"
     ]
    }
   ],
   "source": [
    "import this"
   ]
  },
  {
   "cell_type": "code",
   "execution_count": 6,
   "id": "17e852a5-7fd2-47e6-a4ae-5726afabf8b5",
   "metadata": {},
   "outputs": [
    {
     "name": "stdout",
     "output_type": "stream",
     "text": [
      "1\n",
      "1\n",
      "10\n"
     ]
    }
   ],
   "source": [
    "# LEGB\n",
    "b = 10\n",
    "def g():\n",
    "    a = 1\n",
    "    # print = 9 # build\n",
    "    print(a) # L\n",
    "    def f():\n",
    "        print(a) # E\n",
    "        print(b) # localment b ? englobant b ? global b ? \n",
    "\n",
    "    f()\n",
    "\n",
    "g()"
   ]
  },
  {
   "cell_type": "code",
   "execution_count": 7,
   "id": "461409dc-0f6c-4d76-bd96-fac087d6b6b9",
   "metadata": {},
   "outputs": [
    {
     "name": "stdout",
     "output_type": "stream",
     "text": [
      "2\n",
      "1\n"
     ]
    }
   ],
   "source": [
    "a = 1\n",
    "b = 2\n",
    "\n",
    "a, b = b, a # tuple\n",
    "\n",
    "print(a)\n",
    "print(b)"
   ]
  },
  {
   "cell_type": "code",
   "execution_count": 8,
   "id": "f8e9df1b-d07f-42d3-a29e-b24ca5af5dae",
   "metadata": {},
   "outputs": [],
   "source": [
    "nums = {1, 2, 3, 3, 2}"
   ]
  },
  {
   "cell_type": "code",
   "execution_count": 10,
   "id": "906b48b9-a7c7-4e21-ae41-76260f98ee8b",
   "metadata": {},
   "outputs": [
    {
     "data": {
      "text/plain": [
       "{1}"
      ]
     },
     "execution_count": 10,
     "metadata": {},
     "output_type": "execute_result"
    }
   ],
   "source": [
    "nums & { 1 }"
   ]
  },
  {
   "cell_type": "code",
   "execution_count": 11,
   "id": "fa6d2812-6823-4ab1-8a7d-0afe2e702f90",
   "metadata": {},
   "outputs": [
    {
     "data": {
      "text/plain": [
       "[1, 2, 3]"
      ]
     },
     "execution_count": 11,
     "metadata": {},
     "output_type": "execute_result"
    }
   ],
   "source": [
    "list(nums)"
   ]
  },
  {
   "cell_type": "code",
   "execution_count": 16,
   "id": "b60d714f-3e24-4ec7-b60d-f763f16ef471",
   "metadata": {},
   "outputs": [],
   "source": [
    "l = []\n",
    "for i in range(1, 11):\n",
    "    l.append(i*2)"
   ]
  },
  {
   "cell_type": "code",
   "execution_count": 17,
   "id": "f8833ba8-5e4b-4376-9256-0b76010f5c7f",
   "metadata": {},
   "outputs": [
    {
     "data": {
      "text/plain": [
       "[2, 4, 6, 8, 10, 12, 14, 16, 18, 20]"
      ]
     },
     "execution_count": 17,
     "metadata": {},
     "output_type": "execute_result"
    }
   ],
   "source": [
    "l"
   ]
  },
  {
   "cell_type": "code",
   "execution_count": 18,
   "id": "9e89d4c2-0112-4524-8198-dda1924944d1",
   "metadata": {},
   "outputs": [
    {
     "data": {
      "text/plain": [
       "[2, 4, 6, 8, 10, 12, 14, 16, 18, 20]"
      ]
     },
     "execution_count": 18,
     "metadata": {},
     "output_type": "execute_result"
    }
   ],
   "source": [
    "[ i*2 for i in range(1, 11) ]"
   ]
  },
  {
   "cell_type": "code",
   "execution_count": 24,
   "id": "d024ea8d-48f1-4e23-8ffb-61e1d2ccb6be",
   "metadata": {},
   "outputs": [
    {
     "data": {
      "text/plain": [
       "20"
      ]
     },
     "execution_count": 24,
     "metadata": {},
     "output_type": "execute_result"
    }
   ],
   "source": [
    "sum( i for i in range(10) if i % 2 == 0 )"
   ]
  },
  {
   "cell_type": "code",
   "execution_count": 26,
   "id": "f39e3c9b-dfd3-4010-ab10-893dd91d6ae1",
   "metadata": {},
   "outputs": [],
   "source": [
    "for i in range(1, 11):\n",
    "    for j in range(1, 11):\n",
    "        i *j "
   ]
  },
  {
   "cell_type": "code",
   "execution_count": 42,
   "id": "2c6447d4-a387-4fe9-abba-e743fed98a58",
   "metadata": {},
   "outputs": [],
   "source": [
    "g = ( i * j for i in range(1,11) for j in range(1,11) )"
   ]
  },
  {
   "cell_type": "code",
   "execution_count": 44,
   "id": "9e299578-cfc6-4d06-91a3-e14c8ea45ef1",
   "metadata": {},
   "outputs": [],
   "source": [
    "for i in g:\n",
    "    print(i)"
   ]
  },
  {
   "cell_type": "code",
   "execution_count": null,
   "id": "04ab3324-0076-47ac-af85-b64c483871db",
   "metadata": {},
   "outputs": [],
   "source": [
    "# sequence[start:stop:step]"
   ]
  },
  {
   "cell_type": "code",
   "execution_count": 52,
   "id": "677f31a3-d7b2-4cd6-945f-3087caa5fe36",
   "metadata": {},
   "outputs": [
    {
     "name": "stdout",
     "output_type": "stream",
     "text": [
      "[2, 4, 6, 8, 10, 12, 14, 16, 18, 20]\n"
     ]
    },
    {
     "data": {
      "text/plain": [
       "[2, 8, 14, 20]"
      ]
     },
     "execution_count": 52,
     "metadata": {},
     "output_type": "execute_result"
    }
   ],
   "source": [
    "print(l)\n",
    "l[::3]"
   ]
  },
  {
   "cell_type": "code",
   "execution_count": 54,
   "id": "434abe70-66d7-44e6-9aa3-1b612825b8b0",
   "metadata": {},
   "outputs": [
    {
     "data": {
      "text/plain": [
       "[20, 16, 12, 8, 4]"
      ]
     },
     "execution_count": 54,
     "metadata": {},
     "output_type": "execute_result"
    }
   ],
   "source": []
  },
  {
   "cell_type": "code",
   "execution_count": null,
   "id": "071e9143-39fc-47c1-98ae-0aacd420ad18",
   "metadata": {},
   "outputs": [],
   "source": []
  },
  {
   "cell_type": "code",
   "execution_count": 56,
   "id": "2d2751a0-8328-4d5a-90cc-25e8c46fd363",
   "metadata": {},
   "outputs": [],
   "source": [
    "def addition(a: int, b: int) -> int:\n",
    "    return a + b"
   ]
  },
  {
   "cell_type": "code",
   "execution_count": 57,
   "id": "f2895c3b-c128-46f5-83dd-b7a5fa476e4b",
   "metadata": {},
   "outputs": [
    {
     "data": {
      "text/plain": [
       "3.0"
      ]
     },
     "execution_count": 57,
     "metadata": {},
     "output_type": "execute_result"
    }
   ],
   "source": [
    "addition(1, 2.0)"
   ]
  },
  {
   "cell_type": "code",
   "execution_count": 65,
   "id": "0d0c5f30-9001-4155-b8f5-628b440a5338",
   "metadata": {},
   "outputs": [],
   "source": [
    "class A:\n",
    "    def __init__(self, a):\n",
    "        self.a = a\n",
    "\n",
    "    def g(self):\n",
    "        print(\"bonjour\")"
   ]
  },
  {
   "cell_type": "code",
   "execution_count": 66,
   "id": "ce61f023-de36-4aa5-8fcb-7fc34aae0565",
   "metadata": {},
   "outputs": [],
   "source": [
    "o = A(1)"
   ]
  },
  {
   "cell_type": "code",
   "execution_count": 67,
   "id": "a6f2c0bd-17ba-48fe-a335-26e312787a93",
   "metadata": {},
   "outputs": [
    {
     "name": "stdout",
     "output_type": "stream",
     "text": [
      "bonjour\n"
     ]
    }
   ],
   "source": [
    "o.g()"
   ]
  },
  {
   "cell_type": "code",
   "execution_count": 68,
   "id": "42c34a6b-2071-499d-aaec-19a1cc7c1d75",
   "metadata": {},
   "outputs": [],
   "source": [
    "import numpy as np"
   ]
  },
  {
   "cell_type": "code",
   "execution_count": 70,
   "id": "41d20083-81d0-41eb-875a-6003ffddf6c8",
   "metadata": {},
   "outputs": [
    {
     "data": {
      "text/plain": [
       "array([ True,  True, False])"
      ]
     },
     "execution_count": 70,
     "metadata": {},
     "output_type": "execute_result"
    }
   ],
   "source": [
    "a = np.array([1, 2, 3,])\n",
    "b = np.array([1, 2, 4])\n",
    "\n",
    "a == b"
   ]
  },
  {
   "cell_type": "code",
   "execution_count": null,
   "id": "fd140a26-31b8-47b2-b588-f1554da9844c",
   "metadata": {},
   "outputs": [],
   "source": []
  }
 ],
 "metadata": {
  "kernelspec": {
   "display_name": "Python 3 (ipykernel)",
   "language": "python",
   "name": "python3"
  },
  "language_info": {
   "codemirror_mode": {
    "name": "ipython",
    "version": 3
   },
   "file_extension": ".py",
   "mimetype": "text/x-python",
   "name": "python",
   "nbconvert_exporter": "python",
   "pygments_lexer": "ipython3",
   "version": "3.11.12"
  }
 },
 "nbformat": 4,
 "nbformat_minor": 5
}
