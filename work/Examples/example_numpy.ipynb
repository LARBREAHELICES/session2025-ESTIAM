{
 "cells": [
  {
   "cell_type": "code",
   "execution_count": 1,
   "id": "97b5d370-df9a-4f6d-a6c4-5b1e45e64c1b",
   "metadata": {},
   "outputs": [],
   "source": [
    "import numpy as np  # alias de Numpy"
   ]
  },
  {
   "cell_type": "code",
   "execution_count": 3,
   "id": "870b02d2-a3ea-4300-aef1-fd5ab96d943c",
   "metadata": {},
   "outputs": [],
   "source": [
    "#help(np)"
   ]
  },
  {
   "cell_type": "code",
   "execution_count": 8,
   "id": "fd5e6127-6b43-48bf-bf57-808bae55af85",
   "metadata": {},
   "outputs": [
    {
     "name": "stdout",
     "output_type": "stream",
     "text": [
      "[1 2 3]\n",
      "(3,)\n"
     ]
    }
   ],
   "source": [
    "a = np.array([1, 2, 3])\n",
    "b = np.array([1, 2, 3])\n",
    "\n",
    "print(a)          # [1 2 3]\n",
    "print(a.shape)    # (3,)"
   ]
  },
  {
   "cell_type": "code",
   "execution_count": 9,
   "id": "534c8c4f-ff16-4604-bdf1-cf02136f8dd7",
   "metadata": {},
   "outputs": [
    {
     "data": {
      "text/plain": [
       "array([3, 6, 9])"
      ]
     },
     "execution_count": 9,
     "metadata": {},
     "output_type": "execute_result"
    }
   ],
   "source": [
    "2*a + b "
   ]
  },
  {
   "cell_type": "code",
   "execution_count": 10,
   "id": "b91233f4-de8a-473a-889a-83a20f8df58d",
   "metadata": {},
   "outputs": [
    {
     "data": {
      "text/plain": [
       "array([1, 4, 9])"
      ]
     },
     "execution_count": 10,
     "metadata": {},
     "output_type": "execute_result"
    }
   ],
   "source": [
    "a*b"
   ]
  },
  {
   "cell_type": "code",
   "execution_count": 11,
   "id": "05e30a1b-0b58-42b0-96f9-5bc64f1e9bad",
   "metadata": {},
   "outputs": [],
   "source": [
    "c = np.array([[1,2], [3,2] ])"
   ]
  },
  {
   "cell_type": "code",
   "execution_count": 12,
   "id": "efc2b3eb-1b80-4ce3-a37a-c71de1a17e5e",
   "metadata": {},
   "outputs": [
    {
     "data": {
      "text/plain": [
       "(2, 2)"
      ]
     },
     "execution_count": 12,
     "metadata": {},
     "output_type": "execute_result"
    }
   ],
   "source": [
    "c.shape"
   ]
  },
  {
   "cell_type": "code",
   "execution_count": 32,
   "id": "26b10ab3-5cf8-40b8-a389-c9498e885722",
   "metadata": {},
   "outputs": [],
   "source": [
    "a = np.random.randint(0, 1_000, size=100)"
   ]
  },
  {
   "cell_type": "code",
   "execution_count": 33,
   "id": "fc076e5d-7c9f-4477-8b9d-a06a757e26c2",
   "metadata": {},
   "outputs": [
    {
     "data": {
      "text/plain": [
       "np.int64(52)"
      ]
     },
     "execution_count": 33,
     "metadata": {},
     "output_type": "execute_result"
    }
   ],
   "source": [
    "(a < 500).sum()"
   ]
  },
  {
   "cell_type": "code",
   "execution_count": 34,
   "id": "b2c9e49c-2b1f-4f6c-a16a-1d9bd4f63386",
   "metadata": {},
   "outputs": [
    {
     "data": {
      "text/plain": [
       "np.float64(460.59)"
      ]
     },
     "execution_count": 34,
     "metadata": {},
     "output_type": "execute_result"
    }
   ],
   "source": [
    "a.mean()"
   ]
  },
  {
   "cell_type": "code",
   "execution_count": 36,
   "id": "8f9e4435-eb7e-4e26-8273-d49af7dda212",
   "metadata": {},
   "outputs": [
    {
     "data": {
      "text/plain": [
       "array([645, 678, 962, 543, 652, 921, 692, 973, 785, 861, 704, 916, 665,\n",
       "       669, 966, 641, 677, 973, 633, 529, 937, 573, 641, 570, 678, 821,\n",
       "       764, 748, 981, 504, 578, 910, 758, 532, 882, 516, 965, 902, 562,\n",
       "       541, 711, 599, 674, 891, 801, 754, 556, 608])"
      ]
     },
     "execution_count": 36,
     "metadata": {},
     "output_type": "execute_result"
    }
   ],
   "source": [
    "a[ a > 500 ] "
   ]
  },
  {
   "cell_type": "code",
   "execution_count": null,
   "id": "9096d37f-e10a-4a8e-9502-daeaa366e2a5",
   "metadata": {},
   "outputs": [],
   "source": []
  }
 ],
 "metadata": {
  "kernelspec": {
   "display_name": "Python 3 (ipykernel)",
   "language": "python",
   "name": "python3"
  },
  "language_info": {
   "codemirror_mode": {
    "name": "ipython",
    "version": 3
   },
   "file_extension": ".py",
   "mimetype": "text/x-python",
   "name": "python",
   "nbconvert_exporter": "python",
   "pygments_lexer": "ipython3",
   "version": "3.11.12"
  }
 },
 "nbformat": 4,
 "nbformat_minor": 5
}
