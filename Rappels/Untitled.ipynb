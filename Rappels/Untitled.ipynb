{
 "cells": [
  {
   "cell_type": "code",
   "execution_count": 1,
   "id": "3ad25d3a-fba5-47a0-90ef-9858c6a86cb1",
   "metadata": {},
   "outputs": [],
   "source": [
    "import numpy as np"
   ]
  },
  {
   "cell_type": "code",
   "execution_count": 2,
   "id": "6cd6d7b8-1f8d-4f0f-b9fc-a845776a25c7",
   "metadata": {},
   "outputs": [],
   "source": [
    "january = np.array([-2,  5, -5,  6, -2,  0,  6,  2,  8,  0,  6, -1,  3,  3,  7,  0, -5,\n",
    "        7,  4,  7,  8, -1,  5, -2,  3, -3, -2,  7,  8,  4,  2])"
   ]
  },
  {
   "cell_type": "code",
   "execution_count": 5,
   "id": "783456a4-5034-448c-9516-b646f17213d5",
   "metadata": {},
   "outputs": [
    {
     "data": {
      "text/plain": [
       "array([False,  True, False,  True, False, False,  True,  True,  True,\n",
       "       False,  True, False,  True,  True,  True, False, False,  True,\n",
       "        True,  True,  True, False,  True, False,  True, False, False,\n",
       "        True,  True,  True,  True])"
      ]
     },
     "execution_count": 5,
     "metadata": {},
     "output_type": "execute_result"
    }
   ],
   "source": [
    "# Donnez toutes les températures qui sont supérieures à 0.\n",
    "mask = january > 0\n",
    "january > 0"
   ]
  },
  {
   "cell_type": "code",
   "execution_count": 6,
   "id": "66efedf9-f264-4077-b38f-b27a6e7d24e9",
   "metadata": {},
   "outputs": [
    {
     "data": {
      "text/plain": [
       "array([5, 6, 6, 2, 8, 6, 3, 3, 7, 7, 4, 7, 8, 5, 3, 7, 8, 4, 2])"
      ]
     },
     "execution_count": 6,
     "metadata": {},
     "output_type": "execute_result"
    }
   ],
   "source": [
    "january[mask] # températures positives "
   ]
  },
  {
   "cell_type": "code",
   "execution_count": null,
   "id": "7d525092-2f21-4360-b738-a31ba0bf7729",
   "metadata": {},
   "outputs": [],
   "source": [
    "np.sum( january > 0 )"
   ]
  }
 ],
 "metadata": {
  "kernelspec": {
   "display_name": "Python 3 (ipykernel)",
   "language": "python",
   "name": "python3"
  },
  "language_info": {
   "codemirror_mode": {
    "name": "ipython",
    "version": 3
   },
   "file_extension": ".py",
   "mimetype": "text/x-python",
   "name": "python",
   "nbconvert_exporter": "python",
   "pygments_lexer": "ipython3",
   "version": "3.11.13"
  }
 },
 "nbformat": 4,
 "nbformat_minor": 5
}
