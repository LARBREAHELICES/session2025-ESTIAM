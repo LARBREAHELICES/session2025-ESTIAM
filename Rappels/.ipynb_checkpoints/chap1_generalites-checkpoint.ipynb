{
 "cells": [
  {
   "cell_type": "code",
   "execution_count": 2,
   "id": "edefd232-fab2-4b27-88d2-c4d67340513b",
   "metadata": {},
   "outputs": [
    {
     "name": "stdout",
     "output_type": "stream",
     "text": [
      "10\n",
      "9 10\n",
      "9\n",
      "10\n"
     ]
    }
   ],
   "source": [
    "b = 10 # global \n",
    "\n",
    "\n",
    "def g():\n",
    "    a = 9 # local par rapport à g \n",
    "    # print = 9 # builtin\n",
    "    print(a, b) # Local à la fonction \n",
    "    def f():\n",
    "        print(a) # E\n",
    "        print(b) # localment b ? englobant b ? global b ? \n",
    "\n",
    "    f()\n",
    "\n",
    "def h():\n",
    "    print(b)\n",
    "    # print(a) pas global dans un autre scope \n",
    "\n",
    "h()\n",
    "\n",
    "g()"
   ]
  },
  {
   "cell_type": "code",
   "execution_count": 3,
   "id": "d3c64c57-01a8-4592-a986-16d9ffc253f0",
   "metadata": {},
   "outputs": [
    {
     "name": "stdout",
     "output_type": "stream",
     "text": [
      "f\n"
     ]
    }
   ],
   "source": [
    "# LEGB : local englobant global et builtin \n",
    "\n",
    "print(\"f\")"
   ]
  },
  {
   "cell_type": "code",
   "execution_count": 4,
   "id": "c75784e4-6b58-465c-85f4-4789d6edc530",
   "metadata": {},
   "outputs": [],
   "source": [
    "# print = 5 ça écrase ce qui est dans le builtin \n",
    "\n",
    "# print"
   ]
  },
  {
   "cell_type": "code",
   "execution_count": 5,
   "id": "b43a351f-cac4-4e72-abda-6fdc6fa62645",
   "metadata": {},
   "outputs": [
    {
     "name": "stdout",
     "output_type": "stream",
     "text": [
      "[1, 4, 9, 16, 25]\n"
     ]
    }
   ],
   "source": [
    "# la liste élevée au carrée on a une liste de 5 valeurs consécutives de 1 à 5\n",
    "\n",
    "# compréhension de liste \n",
    "l = [ i**2 for i in range(1, 6 ) ]\n",
    "print(l)"
   ]
  },
  {
   "cell_type": "code",
   "execution_count": 6,
   "id": "515b4248-ca38-4000-a80e-ff8422b17030",
   "metadata": {},
   "outputs": [
    {
     "data": {
      "text/plain": [
       "[1, 4]"
      ]
     },
     "execution_count": 6,
     "metadata": {},
     "output_type": "execute_result"
    }
   ],
   "source": [
    "l[:2]"
   ]
  },
  {
   "cell_type": "code",
   "execution_count": 7,
   "id": "f161a0e7-e92b-46da-8cac-b23b9c35ec08",
   "metadata": {},
   "outputs": [
    {
     "data": {
      "text/plain": [
       "[4, 16]"
      ]
     },
     "execution_count": 7,
     "metadata": {},
     "output_type": "execute_result"
    }
   ],
   "source": [
    "l[1::2]"
   ]
  },
  {
   "cell_type": "code",
   "execution_count": 8,
   "id": "706c9ac6-3036-4759-bb97-4222869b0f80",
   "metadata": {},
   "outputs": [
    {
     "data": {
      "text/plain": [
       "[1, 4]"
      ]
     },
     "execution_count": 8,
     "metadata": {},
     "output_type": "execute_result"
    }
   ],
   "source": [
    "l[0:2:1]"
   ]
  },
  {
   "cell_type": "code",
   "execution_count": 9,
   "id": "b7fb9841-ec50-43ba-b318-7306b0102575",
   "metadata": {},
   "outputs": [
    {
     "data": {
      "text/plain": [
       "[1, 4, 9]"
      ]
     },
     "execution_count": 9,
     "metadata": {},
     "output_type": "execute_result"
    }
   ],
   "source": [
    "l[0:3:1]"
   ]
  },
  {
   "cell_type": "code",
   "execution_count": 10,
   "id": "3d2da5b8-f245-4e11-871e-91fa3b50e295",
   "metadata": {},
   "outputs": [
    {
     "data": {
      "text/plain": [
       "[1, 4, 9, 16]"
      ]
     },
     "execution_count": 10,
     "metadata": {},
     "output_type": "execute_result"
    }
   ],
   "source": [
    "l[0:4:1]"
   ]
  },
  {
   "cell_type": "code",
   "execution_count": 11,
   "id": "be87c17a-8a6f-4cd4-ae4e-0030d6996660",
   "metadata": {},
   "outputs": [
    {
     "data": {
      "text/plain": [
       "[1, 4, 9, 16]"
      ]
     },
     "execution_count": 11,
     "metadata": {},
     "output_type": "execute_result"
    }
   ],
   "source": [
    "l[0:4]"
   ]
  },
  {
   "cell_type": "code",
   "execution_count": 13,
   "id": "f0e33dc6-1b8a-4f5a-a870-823fd7c646d9",
   "metadata": {},
   "outputs": [
    {
     "data": {
      "text/plain": [
       "[1, 4, 9, 16]"
      ]
     },
     "execution_count": 13,
     "metadata": {},
     "output_type": "execute_result"
    }
   ],
   "source": [
    "l[:4]"
   ]
  },
  {
   "cell_type": "code",
   "execution_count": 14,
   "id": "775b7a12-6c76-4682-9d2f-5ddc0add7497",
   "metadata": {},
   "outputs": [
    {
     "data": {
      "text/plain": [
       "[25, 16, 9, 4, 1]"
      ]
     },
     "execution_count": 14,
     "metadata": {},
     "output_type": "execute_result"
    }
   ],
   "source": [
    "l[::-1]"
   ]
  },
  {
   "cell_type": "code",
   "execution_count": 15,
   "id": "6384f7b5-bf0c-4d34-8ad0-4b255b349b38",
   "metadata": {},
   "outputs": [
    {
     "data": {
      "text/plain": [
       "[25, 9, 1]"
      ]
     },
     "execution_count": 15,
     "metadata": {},
     "output_type": "execute_result"
    }
   ],
   "source": [
    "l[::-2]"
   ]
  },
  {
   "cell_type": "code",
   "execution_count": 16,
   "id": "b038dfc8-ebfc-4713-bdb1-b8ce82f35640",
   "metadata": {},
   "outputs": [],
   "source": [
    "import numpy as np "
   ]
  },
  {
   "cell_type": "code",
   "execution_count": 19,
   "id": "bc97cce9-37ea-44ea-b127-8c94265d448a",
   "metadata": {},
   "outputs": [],
   "source": [
    "a = np.array( [1, 2, 3 ] ) # taille fixe et le type est définie une fois pour toute \n",
    "\n",
    "a[0] = 3"
   ]
  },
  {
   "cell_type": "code",
   "execution_count": 20,
   "id": "8f64a417-9cb2-4631-9319-90a256364926",
   "metadata": {},
   "outputs": [
    {
     "data": {
      "text/plain": [
       "array([3, 2, 3])"
      ]
     },
     "execution_count": 20,
     "metadata": {},
     "output_type": "execute_result"
    }
   ],
   "source": [
    "a"
   ]
  },
  {
   "cell_type": "code",
   "execution_count": 22,
   "id": "8b89f61b-0e05-4d4c-a07d-e6a6011860e5",
   "metadata": {},
   "outputs": [
    {
     "data": {
      "text/plain": [
       "dtype('int64')"
      ]
     },
     "execution_count": 22,
     "metadata": {},
     "output_type": "execute_result"
    }
   ],
   "source": [
    "a.dtype"
   ]
  },
  {
   "cell_type": "code",
   "execution_count": 23,
   "id": "02f94d1d-d624-4108-84d0-01cfdd5d9986",
   "metadata": {},
   "outputs": [],
   "source": [
    "b = np.array( [\"bonjour\", \"tout le monde\" ], dtype='<U2') "
   ]
  },
  {
   "cell_type": "code",
   "execution_count": 24,
   "id": "2ccef906-0c48-47c6-8034-569fa615bf09",
   "metadata": {},
   "outputs": [
    {
     "data": {
      "text/plain": [
       "array(['bo', 'to'], dtype='<U2')"
      ]
     },
     "execution_count": 24,
     "metadata": {},
     "output_type": "execute_result"
    }
   ],
   "source": [
    "b"
   ]
  },
  {
   "cell_type": "code",
   "execution_count": 27,
   "id": "69ac8984-918f-4e61-9d7e-5e840005088a",
   "metadata": {},
   "outputs": [
    {
     "data": {
      "text/plain": [
       "array([576, 256, 576])"
      ]
     },
     "execution_count": 27,
     "metadata": {},
     "output_type": "execute_result"
    }
   ],
   "source": [
    "(a*2 - 10*a)**2"
   ]
  },
  {
   "cell_type": "code",
   "execution_count": 29,
   "id": "02665fe8-6eca-4d76-8176-6c0005a7a470",
   "metadata": {},
   "outputs": [
    {
     "data": {
      "text/plain": [
       "np.float64(3.0)"
      ]
     },
     "execution_count": 29,
     "metadata": {},
     "output_type": "execute_result"
    }
   ],
   "source": [
    "np.median(a)"
   ]
  },
  {
   "cell_type": "code",
   "execution_count": 36,
   "id": "2e4b9fef-7ade-41c2-a74b-ac14147520cf",
   "metadata": {},
   "outputs": [],
   "source": [
    "import pandas as pd # pandas repose sur numpy analyse de données et stat outil indispensable du data analyste"
   ]
  },
  {
   "cell_type": "code",
   "execution_count": 31,
   "id": "d9060aec-abca-473f-b00f-14f61bc0c36e",
   "metadata": {},
   "outputs": [],
   "source": [
    "# Séries et DataFrame"
   ]
  },
  {
   "cell_type": "code",
   "execution_count": 35,
   "id": "f5cd65bb-6a4d-470a-bc16-4d8afcad9546",
   "metadata": {},
   "outputs": [
    {
     "data": {
      "text/plain": [
       "count     3.0\n",
       "mean     20.0\n",
       "std      10.0\n",
       "min      10.0\n",
       "25%      15.0\n",
       "50%      20.0\n",
       "75%      25.0\n",
       "max      30.0\n",
       "dtype: float64"
      ]
     },
     "execution_count": 35,
     "metadata": {},
     "output_type": "execute_result"
    }
   ],
   "source": [
    "s = pd.Series([10, 20, 30], index=[\"a\", \"b\", \"c\"])\n",
    "\n",
    "# stat de votre séries \n",
    "s.describe()"
   ]
  },
  {
   "cell_type": "code",
   "execution_count": 54,
   "id": "064fc545-ed50-4fb7-b034-c69e8c85f64c",
   "metadata": {},
   "outputs": [
    {
     "name": "stdout",
     "output_type": "stream",
     "text": [
      "(3, 2)\n"
     ]
    },
    {
     "data": {
      "text/html": [
       "<div>\n",
       "<style scoped>\n",
       "    .dataframe tbody tr th:only-of-type {\n",
       "        vertical-align: middle;\n",
       "    }\n",
       "\n",
       "    .dataframe tbody tr th {\n",
       "        vertical-align: top;\n",
       "    }\n",
       "\n",
       "    .dataframe thead th {\n",
       "        text-align: right;\n",
       "    }\n",
       "</style>\n",
       "<table border=\"1\" class=\"dataframe\">\n",
       "  <thead>\n",
       "    <tr style=\"text-align: right;\">\n",
       "      <th></th>\n",
       "      <th>name</th>\n",
       "      <th>age</th>\n",
       "    </tr>\n",
       "  </thead>\n",
       "  <tbody>\n",
       "    <tr>\n",
       "      <th>0</th>\n",
       "      <td>Alice</td>\n",
       "      <td>25.0</td>\n",
       "    </tr>\n",
       "    <tr>\n",
       "      <th>1</th>\n",
       "      <td>Bob</td>\n",
       "      <td>NaN</td>\n",
       "    </tr>\n",
       "    <tr>\n",
       "      <th>2</th>\n",
       "      <td>Charlie</td>\n",
       "      <td>35.0</td>\n",
       "    </tr>\n",
       "  </tbody>\n",
       "</table>\n",
       "</div>"
      ],
      "text/plain": [
       "      name   age\n",
       "0    Alice  25.0\n",
       "1      Bob   NaN\n",
       "2  Charlie  35.0"
      ]
     },
     "execution_count": 54,
     "metadata": {},
     "output_type": "execute_result"
    }
   ],
   "source": [
    "df = pd.DataFrame({\n",
    "    \"name\": [\"Alice\", \"Bob\", \"Charlie\"],\n",
    "    \"age\": [25, np.nan, 35]\n",
    "})\n",
    "print(df.shape)\n",
    "df"
   ]
  },
  {
   "cell_type": "code",
   "execution_count": 55,
   "id": "c631ed2b-4806-4ff8-80fa-572c65a14d6d",
   "metadata": {},
   "outputs": [
    {
     "data": {
      "text/html": [
       "<div>\n",
       "<style scoped>\n",
       "    .dataframe tbody tr th:only-of-type {\n",
       "        vertical-align: middle;\n",
       "    }\n",
       "\n",
       "    .dataframe tbody tr th {\n",
       "        vertical-align: top;\n",
       "    }\n",
       "\n",
       "    .dataframe thead th {\n",
       "        text-align: right;\n",
       "    }\n",
       "</style>\n",
       "<table border=\"1\" class=\"dataframe\">\n",
       "  <thead>\n",
       "    <tr style=\"text-align: right;\">\n",
       "      <th></th>\n",
       "      <th>name</th>\n",
       "      <th>age</th>\n",
       "    </tr>\n",
       "  </thead>\n",
       "  <tbody>\n",
       "    <tr>\n",
       "      <th>2</th>\n",
       "      <td>Charlie</td>\n",
       "      <td>35.0</td>\n",
       "    </tr>\n",
       "  </tbody>\n",
       "</table>\n",
       "</div>"
      ],
      "text/plain": [
       "      name   age\n",
       "2  Charlie  35.0"
      ]
     },
     "execution_count": 55,
     "metadata": {},
     "output_type": "execute_result"
    }
   ],
   "source": [
    "mask = df[\"age\"] > 25\n",
    "\n",
    "df[mask]"
   ]
  },
  {
   "cell_type": "code",
   "execution_count": 56,
   "id": "d3caf4ba-beec-45f4-ace3-9e7efc75608c",
   "metadata": {},
   "outputs": [],
   "source": [
    "df[\"sex\"] = [\"F\", \"M\", \"M\"]  # ajout d'une colonne "
   ]
  },
  {
   "cell_type": "code",
   "execution_count": 57,
   "id": "0fec60cf-9bd2-456c-8010-73fd81a2a95b",
   "metadata": {},
   "outputs": [
    {
     "data": {
      "text/html": [
       "<div>\n",
       "<style scoped>\n",
       "    .dataframe tbody tr th:only-of-type {\n",
       "        vertical-align: middle;\n",
       "    }\n",
       "\n",
       "    .dataframe tbody tr th {\n",
       "        vertical-align: top;\n",
       "    }\n",
       "\n",
       "    .dataframe thead th {\n",
       "        text-align: right;\n",
       "    }\n",
       "</style>\n",
       "<table border=\"1\" class=\"dataframe\">\n",
       "  <thead>\n",
       "    <tr style=\"text-align: right;\">\n",
       "      <th></th>\n",
       "      <th>name</th>\n",
       "      <th>age</th>\n",
       "      <th>sex</th>\n",
       "    </tr>\n",
       "  </thead>\n",
       "  <tbody>\n",
       "    <tr>\n",
       "      <th>0</th>\n",
       "      <td>Alice</td>\n",
       "      <td>25.0</td>\n",
       "      <td>F</td>\n",
       "    </tr>\n",
       "    <tr>\n",
       "      <th>1</th>\n",
       "      <td>Bob</td>\n",
       "      <td>NaN</td>\n",
       "      <td>M</td>\n",
       "    </tr>\n",
       "    <tr>\n",
       "      <th>2</th>\n",
       "      <td>Charlie</td>\n",
       "      <td>35.0</td>\n",
       "      <td>M</td>\n",
       "    </tr>\n",
       "  </tbody>\n",
       "</table>\n",
       "</div>"
      ],
      "text/plain": [
       "      name   age sex\n",
       "0    Alice  25.0   F\n",
       "1      Bob   NaN   M\n",
       "2  Charlie  35.0   M"
      ]
     },
     "execution_count": 57,
     "metadata": {},
     "output_type": "execute_result"
    }
   ],
   "source": [
    "df"
   ]
  },
  {
   "cell_type": "code",
   "execution_count": 58,
   "id": "73f2e765-ec45-41f4-8a3d-dd9f889be856",
   "metadata": {},
   "outputs": [],
   "source": [
    "df.loc[3] = [\"Alex\", 34, \"M\"] # ajout d'une ligne"
   ]
  },
  {
   "cell_type": "code",
   "execution_count": 59,
   "id": "2df2c449-2672-415a-ac36-a648f331bf34",
   "metadata": {},
   "outputs": [
    {
     "data": {
      "text/html": [
       "<div>\n",
       "<style scoped>\n",
       "    .dataframe tbody tr th:only-of-type {\n",
       "        vertical-align: middle;\n",
       "    }\n",
       "\n",
       "    .dataframe tbody tr th {\n",
       "        vertical-align: top;\n",
       "    }\n",
       "\n",
       "    .dataframe thead th {\n",
       "        text-align: right;\n",
       "    }\n",
       "</style>\n",
       "<table border=\"1\" class=\"dataframe\">\n",
       "  <thead>\n",
       "    <tr style=\"text-align: right;\">\n",
       "      <th></th>\n",
       "      <th>name</th>\n",
       "      <th>age</th>\n",
       "      <th>sex</th>\n",
       "    </tr>\n",
       "  </thead>\n",
       "  <tbody>\n",
       "    <tr>\n",
       "      <th>0</th>\n",
       "      <td>Alice</td>\n",
       "      <td>25.0</td>\n",
       "      <td>F</td>\n",
       "    </tr>\n",
       "    <tr>\n",
       "      <th>1</th>\n",
       "      <td>Bob</td>\n",
       "      <td>NaN</td>\n",
       "      <td>M</td>\n",
       "    </tr>\n",
       "    <tr>\n",
       "      <th>2</th>\n",
       "      <td>Charlie</td>\n",
       "      <td>35.0</td>\n",
       "      <td>M</td>\n",
       "    </tr>\n",
       "    <tr>\n",
       "      <th>3</th>\n",
       "      <td>Alex</td>\n",
       "      <td>34.0</td>\n",
       "      <td>M</td>\n",
       "    </tr>\n",
       "  </tbody>\n",
       "</table>\n",
       "</div>"
      ],
      "text/plain": [
       "      name   age sex\n",
       "0    Alice  25.0   F\n",
       "1      Bob   NaN   M\n",
       "2  Charlie  35.0   M\n",
       "3     Alex  34.0   M"
      ]
     },
     "execution_count": 59,
     "metadata": {},
     "output_type": "execute_result"
    }
   ],
   "source": [
    "df"
   ]
  },
  {
   "cell_type": "code",
   "execution_count": 60,
   "id": "44eec21c-aee1-4306-82c1-d7ca3d049e10",
   "metadata": {},
   "outputs": [
    {
     "data": {
      "text/plain": [
       "(4, 3)"
      ]
     },
     "execution_count": 60,
     "metadata": {},
     "output_type": "execute_result"
    }
   ],
   "source": [
    "df.shape"
   ]
  },
  {
   "cell_type": "code",
   "execution_count": 61,
   "id": "48a5894c-9d47-463e-9a95-807599a5a639",
   "metadata": {},
   "outputs": [
    {
     "data": {
      "text/html": [
       "<div>\n",
       "<style scoped>\n",
       "    .dataframe tbody tr th:only-of-type {\n",
       "        vertical-align: middle;\n",
       "    }\n",
       "\n",
       "    .dataframe tbody tr th {\n",
       "        vertical-align: top;\n",
       "    }\n",
       "\n",
       "    .dataframe thead th {\n",
       "        text-align: right;\n",
       "    }\n",
       "</style>\n",
       "<table border=\"1\" class=\"dataframe\">\n",
       "  <thead>\n",
       "    <tr style=\"text-align: right;\">\n",
       "      <th></th>\n",
       "      <th>name</th>\n",
       "      <th>age</th>\n",
       "      <th>sex</th>\n",
       "    </tr>\n",
       "  </thead>\n",
       "  <tbody>\n",
       "    <tr>\n",
       "      <th>0</th>\n",
       "      <td>False</td>\n",
       "      <td>False</td>\n",
       "      <td>False</td>\n",
       "    </tr>\n",
       "    <tr>\n",
       "      <th>1</th>\n",
       "      <td>False</td>\n",
       "      <td>True</td>\n",
       "      <td>False</td>\n",
       "    </tr>\n",
       "    <tr>\n",
       "      <th>2</th>\n",
       "      <td>False</td>\n",
       "      <td>False</td>\n",
       "      <td>False</td>\n",
       "    </tr>\n",
       "    <tr>\n",
       "      <th>3</th>\n",
       "      <td>False</td>\n",
       "      <td>False</td>\n",
       "      <td>False</td>\n",
       "    </tr>\n",
       "  </tbody>\n",
       "</table>\n",
       "</div>"
      ],
      "text/plain": [
       "    name    age    sex\n",
       "0  False  False  False\n",
       "1  False   True  False\n",
       "2  False  False  False\n",
       "3  False  False  False"
      ]
     },
     "execution_count": 61,
     "metadata": {},
     "output_type": "execute_result"
    }
   ],
   "source": [
    "df.isna()"
   ]
  },
  {
   "cell_type": "code",
   "execution_count": 66,
   "id": "e9ecd804-336c-4e69-a538-59801147d497",
   "metadata": {},
   "outputs": [
    {
     "data": {
      "text/plain": [
       "name    False\n",
       "age      True\n",
       "sex     False\n",
       "dtype: bool"
      ]
     },
     "execution_count": 66,
     "metadata": {},
     "output_type": "execute_result"
    }
   ],
   "source": [
    "df.isna().any(axis=0) # au moins un True par colonne pour que any renvoie True axis = 0 colonne"
   ]
  },
  {
   "cell_type": "code",
   "execution_count": 63,
   "id": "9bb6697f-5910-4f4a-8534-a20b339f33e8",
   "metadata": {},
   "outputs": [
    {
     "data": {
      "text/plain": [
       "0    False\n",
       "1     True\n",
       "2    False\n",
       "3    False\n",
       "dtype: bool"
      ]
     },
     "execution_count": 63,
     "metadata": {},
     "output_type": "execute_result"
    }
   ],
   "source": [
    "df.isna().any(axis=1) # axis sur les lignes "
   ]
  },
  {
   "cell_type": "code",
   "execution_count": 65,
   "id": "7ea58a1e-3237-4b02-a4ff-1e93bbcc90ad",
   "metadata": {},
   "outputs": [
    {
     "data": {
      "text/plain": [
       "<function all(iterable, /)>"
      ]
     },
     "execution_count": 65,
     "metadata": {},
     "output_type": "execute_result"
    }
   ],
   "source": []
  },
  {
   "cell_type": "code",
   "execution_count": null,
   "id": "4e43b4ab-b468-405f-88ca-64c052352e36",
   "metadata": {},
   "outputs": [],
   "source": []
  }
 ],
 "metadata": {
  "kernelspec": {
   "display_name": "Python 3 (ipykernel)",
   "language": "python",
   "name": "python3"
  },
  "language_info": {
   "codemirror_mode": {
    "name": "ipython",
    "version": 3
   },
   "file_extension": ".py",
   "mimetype": "text/x-python",
   "name": "python",
   "nbconvert_exporter": "python",
   "pygments_lexer": "ipython3",
   "version": "3.11.13"
  }
 },
 "nbformat": 4,
 "nbformat_minor": 5
}
